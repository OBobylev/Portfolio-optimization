{
  "cells": [
    {
      "cell_type": "code",
      "execution_count": null,
      "outputs": [],
      "source": [
        "import time\n",
        "from dataclasses import dataclass\n",
        "from dataclasses import field\n",
        "from datetime import datetime\n",
        "\n",
        "import numpy as np\n",
        "import pandas as pd\n",
        "from matplotlib import pyplot as plt\n",
        "import seaborn as sns"
      ],
      "metadata": {
        "ExecuteTime": {
          "end_time": "2023-11-10T21:53:10.676114Z",
          "start_time": "2023-11-10T21:53:04.612486Z"
        },
        "id": "95K-mbt3Od9Z"
      }
    },
    {
      "cell_type": "code",
      "execution_count": null,
      "outputs": [],
      "source": [
        "DAY_SECONDS = 60 * 60 * 24\n",
        "\n",
        "\n",
        "def today() -> pd.Timestamp:\n",
        "    \"\"\"\n",
        "    pd.Timestamp today midnight\n",
        "    \"\"\"\n",
        "    seconds = time.time() - time.timezone\n",
        "    seconds_round_day = seconds - (seconds % DAY_SECONDS)\n",
        "    return pd.Timestamp.fromtimestamp(seconds_round_day + time.timezone)"
      ],
      "metadata": {
        "ExecuteTime": {
          "end_time": "2023-11-10T21:53:10.969485Z",
          "start_time": "2023-11-10T21:53:04.622911Z"
        },
        "id": "TVEmaXV0Od9a"
      }
    },
    {
      "cell_type": "markdown",
      "source": [
        "Pick some bonds to use in the current optimization"
      ],
      "metadata": {
        "collapsed": false,
        "id": "mlRnq2vDOd9b"
      }
    },
    {
      "cell_type": "code",
      "execution_count": null,
      "outputs": [],
      "source": [
        "BOND_UNIVERSE: tuple[str] = (\n",
        "    \"RU000A0GN9A7\",\n",
        "    \"RU000A0JV4N8\",\n",
        "    \"RU000A0JWDN6\",\n",
        "    \"RU000A0JV4Q1\",\n",
        "    \"RU000A0JVA10\",\n",
        "    \"RU000A0JW0S4\",\n",
        "    \"RU000A0JUMH3\",\n",
        "    )"
      ],
      "metadata": {
        "ExecuteTime": {
          "end_time": "2023-11-10T21:53:10.969782Z",
          "start_time": "2023-11-10T21:53:04.668499Z"
        },
        "id": "HLLO2NFdOd9c"
      }
    },
    {
      "cell_type": "code",
      "execution_count": null,
      "outputs": [
        {
          "output_type": "error",
          "ename": "FileNotFoundError",
          "evalue": "[Errno 2] No such file or directory: '../data/bond_data_price.csv'",
          "traceback": [
            "\u001b[0;31m---------------------------------------------------------------------------\u001b[0m",
            "\u001b[0;31mFileNotFoundError\u001b[0m                         Traceback (most recent call last)",
            "\u001b[0;32m<ipython-input-4-8e4a4317e1ff>\u001b[0m in \u001b[0;36m<cell line: 84>\u001b[0;34m()\u001b[0m\n\u001b[1;32m     82\u001b[0m \u001b[0;34m\u001b[0m\u001b[0m\n\u001b[1;32m     83\u001b[0m \u001b[0;34m\u001b[0m\u001b[0m\n\u001b[0;32m---> 84\u001b[0;31m \u001b[0mbond_data\u001b[0m \u001b[0;34m=\u001b[0m \u001b[0mBondDataProvider\u001b[0m\u001b[0;34m(\u001b[0m\u001b[0;34m)\u001b[0m\u001b[0;34m\u001b[0m\u001b[0;34m\u001b[0m\u001b[0m\n\u001b[0m",
            "\u001b[0;32m<ipython-input-4-8e4a4317e1ff>\u001b[0m in \u001b[0;36m__init__\u001b[0;34m(self)\u001b[0m\n\u001b[1;32m      7\u001b[0m     \u001b[0;32mdef\u001b[0m \u001b[0m__init__\u001b[0m\u001b[0;34m(\u001b[0m\u001b[0mself\u001b[0m\u001b[0;34m)\u001b[0m\u001b[0;34m:\u001b[0m\u001b[0;34m\u001b[0m\u001b[0;34m\u001b[0m\u001b[0m\n\u001b[1;32m      8\u001b[0m         \u001b[0;34m\"\"\"Read all pre-downloaded data.\"\"\"\u001b[0m\u001b[0;34m\u001b[0m\u001b[0;34m\u001b[0m\u001b[0m\n\u001b[0;32m----> 9\u001b[0;31m         \u001b[0mdf_price\u001b[0m \u001b[0;34m=\u001b[0m \u001b[0mpd\u001b[0m\u001b[0;34m.\u001b[0m\u001b[0mread_csv\u001b[0m\u001b[0;34m(\u001b[0m\u001b[0;34m\"../data/bond_data_price.csv\"\u001b[0m\u001b[0;34m,\u001b[0m \u001b[0mparse_dates\u001b[0m\u001b[0;34m=\u001b[0m\u001b[0;34m[\u001b[0m\u001b[0;34m\"date\"\u001b[0m\u001b[0;34m]\u001b[0m\u001b[0;34m)\u001b[0m\u001b[0;34m\u001b[0m\u001b[0;34m\u001b[0m\u001b[0m\n\u001b[0m\u001b[1;32m     10\u001b[0m         \u001b[0mdf_price\u001b[0m\u001b[0;34m[\u001b[0m\u001b[0;34m\"date\"\u001b[0m\u001b[0;34m]\u001b[0m \u001b[0;34m=\u001b[0m \u001b[0mdf_price\u001b[0m\u001b[0;34m[\u001b[0m\u001b[0;34m\"date\"\u001b[0m\u001b[0;34m]\u001b[0m\u001b[0;34m.\u001b[0m\u001b[0mdt\u001b[0m\u001b[0;34m.\u001b[0m\u001b[0mdate\u001b[0m\u001b[0;34m\u001b[0m\u001b[0;34m\u001b[0m\u001b[0m\n\u001b[1;32m     11\u001b[0m         \u001b[0mdf_price\u001b[0m \u001b[0;34m=\u001b[0m \u001b[0mdf_price\u001b[0m\u001b[0;34m.\u001b[0m\u001b[0mset_index\u001b[0m\u001b[0;34m(\u001b[0m\u001b[0;34m[\u001b[0m\u001b[0;34m\"date\"\u001b[0m\u001b[0;34m,\u001b[0m \u001b[0;34m\"isin\"\u001b[0m\u001b[0;34m]\u001b[0m\u001b[0;34m)\u001b[0m\u001b[0;34m\u001b[0m\u001b[0;34m\u001b[0m\u001b[0m\n",
            "\u001b[0;32m/usr/local/lib/python3.10/dist-packages/pandas/util/_decorators.py\u001b[0m in \u001b[0;36mwrapper\u001b[0;34m(*args, **kwargs)\u001b[0m\n\u001b[1;32m    209\u001b[0m                 \u001b[0;32melse\u001b[0m\u001b[0;34m:\u001b[0m\u001b[0;34m\u001b[0m\u001b[0;34m\u001b[0m\u001b[0m\n\u001b[1;32m    210\u001b[0m                     \u001b[0mkwargs\u001b[0m\u001b[0;34m[\u001b[0m\u001b[0mnew_arg_name\u001b[0m\u001b[0;34m]\u001b[0m \u001b[0;34m=\u001b[0m \u001b[0mnew_arg_value\u001b[0m\u001b[0;34m\u001b[0m\u001b[0;34m\u001b[0m\u001b[0m\n\u001b[0;32m--> 211\u001b[0;31m             \u001b[0;32mreturn\u001b[0m \u001b[0mfunc\u001b[0m\u001b[0;34m(\u001b[0m\u001b[0;34m*\u001b[0m\u001b[0margs\u001b[0m\u001b[0;34m,\u001b[0m \u001b[0;34m**\u001b[0m\u001b[0mkwargs\u001b[0m\u001b[0;34m)\u001b[0m\u001b[0;34m\u001b[0m\u001b[0;34m\u001b[0m\u001b[0m\n\u001b[0m\u001b[1;32m    212\u001b[0m \u001b[0;34m\u001b[0m\u001b[0m\n\u001b[1;32m    213\u001b[0m         \u001b[0;32mreturn\u001b[0m \u001b[0mcast\u001b[0m\u001b[0;34m(\u001b[0m\u001b[0mF\u001b[0m\u001b[0;34m,\u001b[0m \u001b[0mwrapper\u001b[0m\u001b[0;34m)\u001b[0m\u001b[0;34m\u001b[0m\u001b[0;34m\u001b[0m\u001b[0m\n",
            "\u001b[0;32m/usr/local/lib/python3.10/dist-packages/pandas/util/_decorators.py\u001b[0m in \u001b[0;36mwrapper\u001b[0;34m(*args, **kwargs)\u001b[0m\n\u001b[1;32m    329\u001b[0m                     \u001b[0mstacklevel\u001b[0m\u001b[0;34m=\u001b[0m\u001b[0mfind_stack_level\u001b[0m\u001b[0;34m(\u001b[0m\u001b[0;34m)\u001b[0m\u001b[0;34m,\u001b[0m\u001b[0;34m\u001b[0m\u001b[0;34m\u001b[0m\u001b[0m\n\u001b[1;32m    330\u001b[0m                 )\n\u001b[0;32m--> 331\u001b[0;31m             \u001b[0;32mreturn\u001b[0m \u001b[0mfunc\u001b[0m\u001b[0;34m(\u001b[0m\u001b[0;34m*\u001b[0m\u001b[0margs\u001b[0m\u001b[0;34m,\u001b[0m \u001b[0;34m**\u001b[0m\u001b[0mkwargs\u001b[0m\u001b[0;34m)\u001b[0m\u001b[0;34m\u001b[0m\u001b[0;34m\u001b[0m\u001b[0m\n\u001b[0m\u001b[1;32m    332\u001b[0m \u001b[0;34m\u001b[0m\u001b[0m\n\u001b[1;32m    333\u001b[0m         \u001b[0;31m# error: \"Callable[[VarArg(Any), KwArg(Any)], Any]\" has no\u001b[0m\u001b[0;34m\u001b[0m\u001b[0;34m\u001b[0m\u001b[0m\n",
            "\u001b[0;32m/usr/local/lib/python3.10/dist-packages/pandas/io/parsers/readers.py\u001b[0m in \u001b[0;36mread_csv\u001b[0;34m(filepath_or_buffer, sep, delimiter, header, names, index_col, usecols, squeeze, prefix, mangle_dupe_cols, dtype, engine, converters, true_values, false_values, skipinitialspace, skiprows, skipfooter, nrows, na_values, keep_default_na, na_filter, verbose, skip_blank_lines, parse_dates, infer_datetime_format, keep_date_col, date_parser, dayfirst, cache_dates, iterator, chunksize, compression, thousands, decimal, lineterminator, quotechar, quoting, doublequote, escapechar, comment, encoding, encoding_errors, dialect, error_bad_lines, warn_bad_lines, on_bad_lines, delim_whitespace, low_memory, memory_map, float_precision, storage_options)\u001b[0m\n\u001b[1;32m    948\u001b[0m     \u001b[0mkwds\u001b[0m\u001b[0;34m.\u001b[0m\u001b[0mupdate\u001b[0m\u001b[0;34m(\u001b[0m\u001b[0mkwds_defaults\u001b[0m\u001b[0;34m)\u001b[0m\u001b[0;34m\u001b[0m\u001b[0;34m\u001b[0m\u001b[0m\n\u001b[1;32m    949\u001b[0m \u001b[0;34m\u001b[0m\u001b[0m\n\u001b[0;32m--> 950\u001b[0;31m     \u001b[0;32mreturn\u001b[0m \u001b[0m_read\u001b[0m\u001b[0;34m(\u001b[0m\u001b[0mfilepath_or_buffer\u001b[0m\u001b[0;34m,\u001b[0m \u001b[0mkwds\u001b[0m\u001b[0;34m)\u001b[0m\u001b[0;34m\u001b[0m\u001b[0;34m\u001b[0m\u001b[0m\n\u001b[0m\u001b[1;32m    951\u001b[0m \u001b[0;34m\u001b[0m\u001b[0m\n\u001b[1;32m    952\u001b[0m \u001b[0;34m\u001b[0m\u001b[0m\n",
            "\u001b[0;32m/usr/local/lib/python3.10/dist-packages/pandas/io/parsers/readers.py\u001b[0m in \u001b[0;36m_read\u001b[0;34m(filepath_or_buffer, kwds)\u001b[0m\n\u001b[1;32m    603\u001b[0m \u001b[0;34m\u001b[0m\u001b[0m\n\u001b[1;32m    604\u001b[0m     \u001b[0;31m# Create the parser.\u001b[0m\u001b[0;34m\u001b[0m\u001b[0;34m\u001b[0m\u001b[0m\n\u001b[0;32m--> 605\u001b[0;31m     \u001b[0mparser\u001b[0m \u001b[0;34m=\u001b[0m \u001b[0mTextFileReader\u001b[0m\u001b[0;34m(\u001b[0m\u001b[0mfilepath_or_buffer\u001b[0m\u001b[0;34m,\u001b[0m \u001b[0;34m**\u001b[0m\u001b[0mkwds\u001b[0m\u001b[0;34m)\u001b[0m\u001b[0;34m\u001b[0m\u001b[0;34m\u001b[0m\u001b[0m\n\u001b[0m\u001b[1;32m    606\u001b[0m \u001b[0;34m\u001b[0m\u001b[0m\n\u001b[1;32m    607\u001b[0m     \u001b[0;32mif\u001b[0m \u001b[0mchunksize\u001b[0m \u001b[0;32mor\u001b[0m \u001b[0miterator\u001b[0m\u001b[0;34m:\u001b[0m\u001b[0;34m\u001b[0m\u001b[0;34m\u001b[0m\u001b[0m\n",
            "\u001b[0;32m/usr/local/lib/python3.10/dist-packages/pandas/io/parsers/readers.py\u001b[0m in \u001b[0;36m__init__\u001b[0;34m(self, f, engine, **kwds)\u001b[0m\n\u001b[1;32m   1440\u001b[0m \u001b[0;34m\u001b[0m\u001b[0m\n\u001b[1;32m   1441\u001b[0m         \u001b[0mself\u001b[0m\u001b[0;34m.\u001b[0m\u001b[0mhandles\u001b[0m\u001b[0;34m:\u001b[0m \u001b[0mIOHandles\u001b[0m \u001b[0;34m|\u001b[0m \u001b[0;32mNone\u001b[0m \u001b[0;34m=\u001b[0m \u001b[0;32mNone\u001b[0m\u001b[0;34m\u001b[0m\u001b[0;34m\u001b[0m\u001b[0m\n\u001b[0;32m-> 1442\u001b[0;31m         \u001b[0mself\u001b[0m\u001b[0;34m.\u001b[0m\u001b[0m_engine\u001b[0m \u001b[0;34m=\u001b[0m \u001b[0mself\u001b[0m\u001b[0;34m.\u001b[0m\u001b[0m_make_engine\u001b[0m\u001b[0;34m(\u001b[0m\u001b[0mf\u001b[0m\u001b[0;34m,\u001b[0m \u001b[0mself\u001b[0m\u001b[0;34m.\u001b[0m\u001b[0mengine\u001b[0m\u001b[0;34m)\u001b[0m\u001b[0;34m\u001b[0m\u001b[0;34m\u001b[0m\u001b[0m\n\u001b[0m\u001b[1;32m   1443\u001b[0m \u001b[0;34m\u001b[0m\u001b[0m\n\u001b[1;32m   1444\u001b[0m     \u001b[0;32mdef\u001b[0m \u001b[0mclose\u001b[0m\u001b[0;34m(\u001b[0m\u001b[0mself\u001b[0m\u001b[0;34m)\u001b[0m \u001b[0;34m->\u001b[0m \u001b[0;32mNone\u001b[0m\u001b[0;34m:\u001b[0m\u001b[0;34m\u001b[0m\u001b[0;34m\u001b[0m\u001b[0m\n",
            "\u001b[0;32m/usr/local/lib/python3.10/dist-packages/pandas/io/parsers/readers.py\u001b[0m in \u001b[0;36m_make_engine\u001b[0;34m(self, f, engine)\u001b[0m\n\u001b[1;32m   1733\u001b[0m                 \u001b[0;32mif\u001b[0m \u001b[0;34m\"b\"\u001b[0m \u001b[0;32mnot\u001b[0m \u001b[0;32min\u001b[0m \u001b[0mmode\u001b[0m\u001b[0;34m:\u001b[0m\u001b[0;34m\u001b[0m\u001b[0;34m\u001b[0m\u001b[0m\n\u001b[1;32m   1734\u001b[0m                     \u001b[0mmode\u001b[0m \u001b[0;34m+=\u001b[0m \u001b[0;34m\"b\"\u001b[0m\u001b[0;34m\u001b[0m\u001b[0;34m\u001b[0m\u001b[0m\n\u001b[0;32m-> 1735\u001b[0;31m             self.handles = get_handle(\n\u001b[0m\u001b[1;32m   1736\u001b[0m                 \u001b[0mf\u001b[0m\u001b[0;34m,\u001b[0m\u001b[0;34m\u001b[0m\u001b[0;34m\u001b[0m\u001b[0m\n\u001b[1;32m   1737\u001b[0m                 \u001b[0mmode\u001b[0m\u001b[0;34m,\u001b[0m\u001b[0;34m\u001b[0m\u001b[0;34m\u001b[0m\u001b[0m\n",
            "\u001b[0;32m/usr/local/lib/python3.10/dist-packages/pandas/io/common.py\u001b[0m in \u001b[0;36mget_handle\u001b[0;34m(path_or_buf, mode, encoding, compression, memory_map, is_text, errors, storage_options)\u001b[0m\n\u001b[1;32m    854\u001b[0m         \u001b[0;32mif\u001b[0m \u001b[0mioargs\u001b[0m\u001b[0;34m.\u001b[0m\u001b[0mencoding\u001b[0m \u001b[0;32mand\u001b[0m \u001b[0;34m\"b\"\u001b[0m \u001b[0;32mnot\u001b[0m \u001b[0;32min\u001b[0m \u001b[0mioargs\u001b[0m\u001b[0;34m.\u001b[0m\u001b[0mmode\u001b[0m\u001b[0;34m:\u001b[0m\u001b[0;34m\u001b[0m\u001b[0;34m\u001b[0m\u001b[0m\n\u001b[1;32m    855\u001b[0m             \u001b[0;31m# Encoding\u001b[0m\u001b[0;34m\u001b[0m\u001b[0;34m\u001b[0m\u001b[0m\n\u001b[0;32m--> 856\u001b[0;31m             handle = open(\n\u001b[0m\u001b[1;32m    857\u001b[0m                 \u001b[0mhandle\u001b[0m\u001b[0;34m,\u001b[0m\u001b[0;34m\u001b[0m\u001b[0;34m\u001b[0m\u001b[0m\n\u001b[1;32m    858\u001b[0m                 \u001b[0mioargs\u001b[0m\u001b[0;34m.\u001b[0m\u001b[0mmode\u001b[0m\u001b[0;34m,\u001b[0m\u001b[0;34m\u001b[0m\u001b[0;34m\u001b[0m\u001b[0m\n",
            "\u001b[0;31mFileNotFoundError\u001b[0m: [Errno 2] No such file or directory: '../data/bond_data_price.csv'"
          ]
        }
      ],
      "source": [
        "from functools import cached_property\n",
        "\n",
        "\n",
        "class BondDataProvider:\n",
        "    \"\"\"Data provider for bonds and\"\"\"\n",
        "\n",
        "    def __init__(self):\n",
        "        \"\"\"Read all pre-downloaded data.\"\"\"\n",
        "        df_price = pd.read_csv(\"../data/bond_data_price.csv\", parse_dates=[\"date\"])\n",
        "        df_price[\"date\"] = df_price[\"date\"].dt.date\n",
        "        df_price = df_price.set_index([\"date\", \"isin\"])\n",
        "        self._price = df_price.sort_index(level=\"date\")\n",
        "\n",
        "        self._dur = pd.read_csv(\"../data/bond_data_duration.csv\", parse_dates=[\"date\"])\n",
        "        self._dur[\"date\"] = self._dur[\"date\"].dt.date\n",
        "        self._dur = self._dur.set_index([\"date\", \"isin\"]).sort_index(level=\"date\")\n",
        "\n",
        "        self._static = pd.read_csv(\"../data/bond_data_static.csv\")\n",
        "        self._rating = pd.read_csv(\n",
        "            \"../data/bond_data_rating.csv\", parse_dates=[\"update_date\"]\n",
        "        )\n",
        "        self._rating[\"update_date\"] = self._rating[\"update_date\"].dt.date\n",
        "\n",
        "        self._volume = pd.read_csv(\"../data/bond_data_volume.csv\")\n",
        "        self._rgbitr = pd.read_csv(\"../data/bond_data_rgbitr.csv\", parse_dates=[\"date\"])\n",
        "\n",
        "        self._yield = pd.read_csv(\"../data/bond_data_yield.csv\", parse_dates=[\"date\"])\n",
        "        self._yield[\"date\"] = pd.to_datetime(self._yield[\"date\"].dt.date)\n",
        "        self._yield = self._yield.sort_values(\"date\")\n",
        "\n",
        "    @property\n",
        "    def price(self):\n",
        "        \"\"\"\n",
        "        df with bond's historical prices\n",
        "        columns: 'isin','date','spread','ask','bid','ai','last','mid'\n",
        "        \"\"\"\n",
        "        return self._price\n",
        "\n",
        "    @property\n",
        "    def duration(self):\n",
        "        \"\"\"\n",
        "        df with bond's precomputed duration data\n",
        "        columns: 'id','date','isin','emission_id','emission_emitent_id','trading_ground_id','avar_price',\n",
        "        'convexity','convexity_offer','dur','dur_to','dur_mod','dur_mod_to'\n",
        "        \"\"\"\n",
        "        return self._dur\n",
        "\n",
        "    @property\n",
        "    def static(self):\n",
        "        \"\"\"Static bond info including coupon data.\"\"\"\n",
        "        return self._static\n",
        "\n",
        "    @property\n",
        "    def rating(self):\n",
        "        \"\"\"Bond ratings data.\"\"\"\n",
        "        return self._rating\n",
        "\n",
        "    @property\n",
        "    def volume(self):\n",
        "        \"\"\"Traded volume data.\n",
        "        columns: 'volume' -- traded volume ,'volume_lots' -- number of traded lots\n",
        "        \"\"\"\n",
        "        return self._volume\n",
        "\n",
        "    @property\n",
        "    def yield_(self):\n",
        "        \"\"\"Estimated bond yields.\"\"\"\n",
        "        return self._yield\n",
        "\n",
        "    @cached_property\n",
        "    def rgbitr(self):\n",
        "        \"\"\"RGBITR benchmark.\"\"\"\n",
        "        return self._rgbitr[self._rgbitr[\"secid\"] == \"RGBITR\"]\n",
        "\n",
        "    @cached_property\n",
        "    def rucbitr(self):\n",
        "        \"\"\"RUCBITR benchmark.\n",
        "\n",
        "        Note: halts after 05/31/2023\n",
        "        \"\"\"\n",
        "        return self._rgbitr[self._rgbitr[\"secid\"] == \"RUCBITR\"]\n",
        "\n",
        "\n",
        "bond_data = BondDataProvider()"
      ],
      "metadata": {
        "ExecuteTime": {
          "end_time": "2023-11-10T22:15:12.608639Z",
          "start_time": "2023-11-10T22:15:07.911260Z"
        },
        "colab": {
          "base_uri": "https://localhost:8080/",
          "height": 373
        },
        "id": "qEpoGkvgOd9c",
        "outputId": "735c0df7-b072-44bb-b3ff-f21792cda3de"
      }
    },
    {
      "cell_type": "code",
      "execution_count": null,
      "outputs": [],
      "source": [
        "@dataclass\n",
        "class BondPortfolio:\n",
        "    \"\"\"portfolio history and basic statistics.\"\"\"\n",
        "\n",
        "    bond_universe: tuple[str] = field(default=tuple)\n",
        "    cash: float = 1\n",
        "\n",
        "    def __post_init__(self):\n",
        "        self.universe_size: int = len(self.bond_universe)\n",
        "\n",
        "        # current portfolio portions of bonds from the universe\n",
        "        self._weights: np.array = np.zeros(self.universe_size)\n",
        "\n",
        "        # current quantities of bonds from the universe\n",
        "        self._qty: np.array = np.zeros(self.universe_size)\n",
        "\n",
        "        self._history_weights: dict[pd.Timestamp, np.array] = {}\n",
        "        self._history_qty: dict[pd.Timestamp, np.array] = {}\n",
        "\n",
        "        # current date\n",
        "        self._date: pd.Timestamp = today()\n",
        "\n",
        "    def update_portfolio(\n",
        "        self, weights: np.array, qty: np.array, cash: float, date: pd.Timestamp\n",
        "    ):\n",
        "        \"\"\"Should be called when bonds quantity is changed\"\"\"\n",
        "        self._date = date\n",
        "        self.cash = cash\n",
        "\n",
        "        self._weights = weights\n",
        "        self._history_weights[date] = weights\n",
        "\n",
        "        self._qty = qty\n",
        "        self._history_qty[date] = qty\n",
        "\n",
        "    @property\n",
        "    def weights(self):\n",
        "        \"\"\"Weights for the current_date.\"\"\"\n",
        "        return self._weights\n",
        "\n",
        "    def wealth(self, prices: np.array):\n",
        "        \"\"\"Total value af assets and money on account.\"\"\"\n",
        "        return self.cash + self._qty @ prices"
      ],
      "metadata": {
        "ExecuteTime": {
          "end_time": "2023-11-10T21:53:10.971204Z",
          "start_time": "2023-11-10T21:53:08.654351Z"
        },
        "id": "sDB6DOqeOd9d"
      }
    },
    {
      "cell_type": "code",
      "execution_count": null,
      "outputs": [],
      "source": [
        "# create portfolio for a simple strategy\n",
        "port = BondPortfolio(\n",
        "    bond_universe=BOND_UNIVERSE,\n",
        "    cash=1,\n",
        ")"
      ],
      "metadata": {
        "ExecuteTime": {
          "end_time": "2023-11-10T21:53:10.971273Z",
          "start_time": "2023-11-10T21:53:08.656947Z"
        },
        "id": "TRYo8QN8Od9d"
      }
    },
    {
      "cell_type": "markdown",
      "source": [
        "## Random Weights Strategy"
      ],
      "metadata": {
        "collapsed": false,
        "id": "Dhgwa2_WOd9e"
      }
    },
    {
      "cell_type": "code",
      "execution_count": null,
      "outputs": [
        {
          "output_type": "stream",
          "name": "stderr",
          "text": [
            "UsageError: Cell magic `%%` not found.\n"
          ]
        }
      ],
      "source": [
        "%% time\n",
        "start_date, end_date = (\n",
        "    pd.Timestamp(\"2023-08-01\"),\n",
        "    bond_data.price.index.get_level_values(0).max(),\n",
        "    )\n",
        "\n",
        "day_ = pd.Timedelta(days=1)\n",
        "\n",
        "dates = pd.date_range(start_date, end_date).date\n",
        "\n",
        "for date in dates:\n",
        "    print(\"======================================================\")\n",
        "    print(date)\n",
        "    a = (np.random.uniform(-1, 1, port.universe_size) + 1) / 2\n",
        "\n",
        "    price_today = bond_data.price.loc[\n",
        "        pd.IndexSlice[slice(date, date), port.bond_universe], :\n",
        "    ]\n",
        "    if price_today.empty:\n",
        "        continue\n",
        "    price_today = price_today.loc[(slice(None), port.bond_universe),].mid\n",
        "    new_weights = a / a.sum(axis=0, keepdims=1)\n",
        "\n",
        "    wealth = port.wealth(price_today.values)\n",
        "    print(f\"{wealth = }\")\n",
        "    qty = wealth * new_weights / price_today\n",
        "    print(new_weights - port.weights)\n",
        "    cash = wealth - qty @ price_today\n",
        "    port.update_portfolio(new_weights, qty, cash, date)"
      ],
      "metadata": {
        "ExecuteTime": {
          "end_time": "2023-11-10T21:53:41.631270Z",
          "start_time": "2023-11-10T21:53:41.415369Z"
        },
        "colab": {
          "base_uri": "https://localhost:8080/"
        },
        "id": "aTB7Ok9BOd9e",
        "outputId": "773f4989-f334-426f-e715-2db6cfdeb828"
      }
    },
    {
      "cell_type": "markdown",
      "source": [
        "### Random Weights Strategy Results"
      ],
      "metadata": {
        "collapsed": false,
        "id": "WiRmpTnyOd9f"
      }
    },
    {
      "cell_type": "code",
      "execution_count": null,
      "outputs": [],
      "source": [
        "wealth"
      ],
      "metadata": {
        "id": "kixSqjdeOd9f"
      }
    },
    {
      "cell_type": "markdown",
      "source": [
        "## Sharpe Ratio Strategy\n",
        "\n",
        "basic statistic to optimize in a portfolio.\n",
        "it compares the return of an investment with its risk, so it seeks to pick find an offset between high yield and low risk"
      ],
      "metadata": {
        "collapsed": false,
        "id": "teM2WCLWOd9f"
      }
    },
    {
      "cell_type": "code",
      "execution_count": null,
      "outputs": [],
      "source": [
        "# df with \"dur_mod\", \"yield\", \"shape\" field for each day and each bond\n",
        "sharpe_data = (\n",
        "    bond_data.duration.groupby([\"date\", \"isin\"])\n",
        "    .dur_mod.mean()\n",
        "    .to_frame()\n",
        "    .loc[(slice(None), BOND_UNIVERSE), [\"dur_mod\"]]\n",
        "    .fillna(float(\"inf\"))\n",
        "    .join(\n",
        "        bond_data.yield_.set_index([\"date\", \"isin\"]).loc[\n",
        "            (slice(None), BOND_UNIVERSE), [\"yield\"]\n",
        "        ],\n",
        "    )\n",
        ")\n",
        "\n",
        "sharpe_data[\"sharpe\"] = sharpe_data[\"yield\"] / sharpe_data[\"dur_mod\"]\n",
        "sharpe_data = sharpe_data.sort_index()"
      ],
      "metadata": {
        "ExecuteTime": {
          "start_time": "2023-11-10T21:53:08.851078Z"
        },
        "id": "G7iRdOFaOd9f"
      }
    },
    {
      "cell_type": "code",
      "execution_count": null,
      "outputs": [],
      "source": [
        "sharpe_data_sorted = sharpe_data.loc[date].sort_values(\n",
        "    \"sharpe\", ascending=False\n",
        ")\n",
        "sharpe_data_sorted[\"sharpe_squared\"] = sharpe_data_sorted[\"sharpe\"] ** 2\n",
        "sharpe_data_sorted[\"weight\"] = (\n",
        "    sharpe_data_sorted[\"sharpe_squared\"]\n",
        "    / sharpe_data_sorted[\"sharpe_squared\"].sum()\n",
        ")\n",
        "sharpe_data_sorted\n",
        "# select max sharp\n",
        "# weights = (\n",
        "#     sharpe_data_sorted.loc[(slice(None), universe), :]"
      ],
      "metadata": {
        "id": "SGmyOwSDOd9f"
      }
    },
    {
      "cell_type": "code",
      "execution_count": null,
      "outputs": [],
      "source": [
        "sharpe_data.loc[(date, slice(None)), :].sort_values(\n",
        "        \"sharpe\", ascending=False\n",
        "    )"
      ],
      "metadata": {
        "id": "KbpYF7hdOd9g"
      }
    },
    {
      "cell_type": "code",
      "execution_count": null,
      "outputs": [],
      "source": [
        "port = BondPortfolio(\n",
        "    cash=1,\n",
        "    bond_universe=BOND_UNIVERSE,\n",
        ")"
      ],
      "metadata": {
        "ExecuteTime": {
          "start_time": "2023-11-10T21:53:08.852249Z"
        },
        "id": "4vUhs_MeOd9g"
      }
    },
    {
      "cell_type": "code",
      "execution_count": null,
      "outputs": [],
      "source": [
        "def get_weights(date: datetime.date, universe: tuple[str]):\n",
        "    \"\"\"Get target weights based on sharpe ratio.\"\"\"\n",
        "    sharpe_data_sorted = sharpe_data.loc[(date, slice(None)), :].sort_values(\n",
        "        \"sharpe\", ascending=False\n",
        "    )\n",
        "    sharpe_data_sorted[\"sharpe_squared\"] = sharpe_data_sorted[\"sharpe\"] ** 2\n",
        "    sharpe_data_sorted[\"weight\"] = (\n",
        "        sharpe_data_sorted[\"sharpe_squared\"]\n",
        "        / sharpe_data_sorted[\"sharpe_squared\"].sum()\n",
        "    )\n",
        "\n",
        "    # select max sharp\n",
        "    weights = (\n",
        "        sharpe_data_sorted.loc[(slice(None), universe), :]\n",
        "        .reset_index()[\"weight\"]\n",
        "        .fillna(0)\n",
        "        .values\n",
        "    )\n",
        "    assert len(weights) == len(universe), f\"{len(weights)},  {len(universe)}\"\n",
        "    return weights"
      ],
      "metadata": {
        "ExecuteTime": {
          "start_time": "2023-11-10T21:53:08.853411Z"
        },
        "id": "DoyGRxXOOd9g"
      }
    },
    {
      "cell_type": "code",
      "execution_count": null,
      "outputs": [],
      "source": [
        "%%time\n",
        "\n",
        "start_date, end_date = (\n",
        "    pd.Timestamp(\"2023-08-01\"),\n",
        "    bond_data.price.index.get_level_values(0).max(),\n",
        ")\n",
        "dates = pd.date_range(start_date, end_date).date\n",
        "for date in dates:\n",
        "    print(\"======================================================\")\n",
        "    print(date)\n",
        "\n",
        "    price_today = bond_data.price.loc[slice(date, date), port.bond_universe, :]\n",
        "    if price_today.empty:\n",
        "        continue\n",
        "    price_today = price_today.loc[(slice(None), port.bond_universe),].mid\n",
        "\n",
        "    new_weights = get_weights(date, BOND_UNIVERSE)  # optimal sharp weights\n",
        "\n",
        "    wealth = port.wealth(price_today.values)\n",
        "    print(f\"{wealth = }\")\n",
        "    qty = wealth * new_weights / price_today.values\n",
        "    cash = wealth - qty @ price_today.values\n",
        "    print(f\"{cash = }\")\n",
        "    port.update_portfolio(new_weights, qty, cash, date)"
      ],
      "metadata": {
        "ExecuteTime": {
          "start_time": "2023-11-10T21:53:08.854713Z"
        },
        "id": "r-Mbch9rOd9g"
      }
    },
    {
      "cell_type": "markdown",
      "source": [
        "### Sharpe Ratio Strategy Results"
      ],
      "metadata": {
        "collapsed": false,
        "id": "deK8i7L2Od9g"
      }
    },
    {
      "cell_type": "code",
      "execution_count": null,
      "outputs": [],
      "source": [
        "wealth"
      ],
      "metadata": {
        "ExecuteTime": {
          "start_time": "2023-11-10T21:53:08.856550Z"
        },
        "id": "8JHnGt0SOd9g"
      }
    },
    {
      "cell_type": "markdown",
      "source": [
        "## Quadratic optimization"
      ],
      "metadata": {
        "collapsed": false,
        "id": "m6P4EYZMOd9h"
      }
    },
    {
      "cell_type": "code",
      "execution_count": null,
      "outputs": [],
      "source": [
        "%% time\n",
        "\n",
        "from baseline.quadratic import get_optimal_weights\n",
        "\n",
        "start_date, end_date = (\n",
        "    pd.Timestamp(\"2023-08-01\"),\n",
        "    bond_data.price.index.get_level_values(0).max(),\n",
        ")\n",
        "dates = pd.date_range(start_date, end_date).date\n",
        "for date in dates:\n",
        "    print(\"======================================================\")\n",
        "    print(date)\n",
        "\n",
        "    price_today = bond_data.price.loc[slice(date, date), port.bond_universe, :]\n",
        "    if price_today.empty:\n",
        "        continue\n",
        "    price_today = price_today.loc[(slice(None), port.bond_universe),].mid\n",
        "\n",
        "    #\n",
        "    # prepare data\n",
        "    #\n",
        "    today_info = (\n",
        "        price_today.to_frame()\n",
        "        .join(\n",
        "            bond_data.duration.loc[\n",
        "                pd.IndexSlice[slice(date, date), port.bond_universe], \"dur_mod\"\n",
        "            ]\n",
        "            .groupby([\"date\", \"isin\"])\n",
        "            .mean()\n",
        "            .fillna(float(\"inf\"))\n",
        "        )\n",
        "        .join(\n",
        "            bond_data.yield_.set_index([\"date\", \"isin\"]).loc[\n",
        "                (slice(date, date), port.bond_universe), :\n",
        "            ]\n",
        "        )\n",
        "    )\n",
        "    rating_reduced = bond_data.rating[\n",
        "        bond_data.rating[\"isin\"].isin(port.bond_universe)\n",
        "        & (bond_data.rating.update_date < date)\n",
        "    ].sort_values(\"update_date\")\n",
        "\n",
        "    rating_reduced = rating_reduced.groupby(\"isin\").num_rating.last()\n",
        "\n",
        "    today_info = today_info.join(rating_reduced)\n",
        "    today_info[\"num_rating\"] = today_info[\"num_rating\"].fillna(0)\n",
        "    #\n",
        "    # make predictions\n",
        "    #\n",
        "    new_weights = get_optimal_weights(\n",
        "        bond_data=today_info,\n",
        "        upper_bound=0.5,\n",
        "        value_date=date,\n",
        "        maturity_limit=10,\n",
        "    )  # optimal sharp weights\n",
        "\n",
        "    wealth = port.wealth(price_today.values)\n",
        "    print(f\"{wealth = }\")\n",
        "    qty = wealth * new_weights / price_today.values\n",
        "    cash = wealth - qty @ price_today.values\n",
        "    print(f\"{cash = }\")\n",
        "    port.update_portfolio(new_weights, qty, cash, date)"
      ],
      "metadata": {
        "ExecuteTime": {
          "start_time": "2023-11-10T21:53:08.858707Z"
        },
        "id": "inIQg6IgOd9h"
      }
    },
    {
      "cell_type": "code",
      "execution_count": null,
      "outputs": [],
      "source": [
        "wealth"
      ],
      "metadata": {
        "ExecuteTime": {
          "start_time": "2023-11-10T21:53:08.860296Z"
        },
        "id": "LDJVUTliOd9h"
      }
    },
    {
      "cell_type": "markdown",
      "source": [
        "# Basic analytics"
      ],
      "metadata": {
        "collapsed": false,
        "id": "lw4Xj-_oOd9h"
      }
    },
    {
      "cell_type": "code",
      "execution_count": null,
      "outputs": [],
      "source": [
        "def get_portfolio_value_history(portfolio: BondPortfolio):\n",
        "    \"\"\"\n",
        "    df with 'qty', 'spread', 'ask', 'bid', 'ai', 'last', 'mid' columns for each bond and trading day of the `portfolio`\n",
        "    \"\"\"\n",
        "    portfolio_df = pd.DataFrame.from_dict(\n",
        "        portfolio._history_qty, orient=\"index\", columns=portfolio.bond_universe\n",
        "    )\n",
        "    portfolio_df.index.name = \"date\"\n",
        "\n",
        "    # wide df -> long df\n",
        "    portfolio_df = pd.melt(\n",
        "        portfolio_df.reset_index(),\n",
        "        \"date\",\n",
        "        value_vars=portfolio.bond_universe,\n",
        "        var_name=\"isin\",\n",
        "        value_name=\"qty\",\n",
        "    ).set_index([\"date\", \"isin\"])\n",
        "\n",
        "    price_df = bond_data.price.reset_index()\n",
        "    price_df = price_df.set_index([\"date\", \"isin\"])\n",
        "\n",
        "    portfolio_history = pd.merge(\n",
        "        portfolio_df,\n",
        "        price_df,\n",
        "        how=\"left\",\n",
        "        left_index=True,\n",
        "        right_index=True,\n",
        "    )\n",
        "\n",
        "    return portfolio_history"
      ],
      "metadata": {
        "ExecuteTime": {
          "start_time": "2023-11-10T21:53:08.865409Z"
        },
        "id": "9bzrg8kcOd9h"
      }
    },
    {
      "cell_type": "markdown",
      "source": [
        "#### portfolio PNL"
      ],
      "metadata": {
        "collapsed": false,
        "id": "Z6vBKAAeOd9i"
      }
    },
    {
      "cell_type": "code",
      "execution_count": null,
      "outputs": [
        {
          "output_type": "error",
          "ename": "NameError",
          "evalue": "name 'bond_data' is not defined",
          "traceback": [
            "\u001b[0;31m---------------------------------------------------------------------------\u001b[0m",
            "\u001b[0;31mNameError\u001b[0m                                 Traceback (most recent call last)",
            "\u001b[0;32m<ipython-input-9-eb095d0daa70>\u001b[0m in \u001b[0;36m<cell line: 1>\u001b[0;34m()\u001b[0m\n\u001b[0;32m----> 1\u001b[0;31m \u001b[0mportfolio_summary\u001b[0m \u001b[0;34m=\u001b[0m \u001b[0mget_portfolio_value_history\u001b[0m\u001b[0;34m(\u001b[0m\u001b[0mport\u001b[0m\u001b[0;34m)\u001b[0m\u001b[0;34m\u001b[0m\u001b[0;34m\u001b[0m\u001b[0m\n\u001b[0m\u001b[1;32m      2\u001b[0m \u001b[0mportfolio_summary\u001b[0m\u001b[0;34m[\u001b[0m\u001b[0;34m\"value\"\u001b[0m\u001b[0;34m]\u001b[0m \u001b[0;34m=\u001b[0m \u001b[0mportfolio_summary\u001b[0m\u001b[0;34m[\u001b[0m\u001b[0;34m\"qty\"\u001b[0m\u001b[0;34m]\u001b[0m \u001b[0;34m*\u001b[0m \u001b[0mportfolio_summary\u001b[0m\u001b[0;34m[\u001b[0m\u001b[0;34m\"mid\"\u001b[0m\u001b[0;34m]\u001b[0m\u001b[0;34m\u001b[0m\u001b[0;34m\u001b[0m\u001b[0m\n\u001b[1;32m      3\u001b[0m \u001b[0mportfolio_summary_grouped\u001b[0m \u001b[0;34m=\u001b[0m \u001b[0mportfolio_summary\u001b[0m\u001b[0;34m.\u001b[0m\u001b[0mgroupby\u001b[0m\u001b[0;34m(\u001b[0m\u001b[0;34m\"date\"\u001b[0m\u001b[0;34m)\u001b[0m\u001b[0;34m\u001b[0m\u001b[0;34m\u001b[0m\u001b[0m\n",
            "\u001b[0;32m<ipython-input-8-1ba0d0c66a03>\u001b[0m in \u001b[0;36mget_portfolio_value_history\u001b[0;34m(portfolio)\u001b[0m\n\u001b[1;32m     17\u001b[0m     ).set_index([\"date\", \"isin\"])\n\u001b[1;32m     18\u001b[0m \u001b[0;34m\u001b[0m\u001b[0m\n\u001b[0;32m---> 19\u001b[0;31m     \u001b[0mprice_df\u001b[0m \u001b[0;34m=\u001b[0m \u001b[0mbond_data\u001b[0m\u001b[0;34m.\u001b[0m\u001b[0mprice\u001b[0m\u001b[0;34m.\u001b[0m\u001b[0mreset_index\u001b[0m\u001b[0;34m(\u001b[0m\u001b[0;34m)\u001b[0m\u001b[0;34m\u001b[0m\u001b[0;34m\u001b[0m\u001b[0m\n\u001b[0m\u001b[1;32m     20\u001b[0m     \u001b[0mprice_df\u001b[0m \u001b[0;34m=\u001b[0m \u001b[0mprice_df\u001b[0m\u001b[0;34m.\u001b[0m\u001b[0mset_index\u001b[0m\u001b[0;34m(\u001b[0m\u001b[0;34m[\u001b[0m\u001b[0;34m\"date\"\u001b[0m\u001b[0;34m,\u001b[0m \u001b[0;34m\"isin\"\u001b[0m\u001b[0;34m]\u001b[0m\u001b[0;34m)\u001b[0m\u001b[0;34m\u001b[0m\u001b[0;34m\u001b[0m\u001b[0m\n\u001b[1;32m     21\u001b[0m \u001b[0;34m\u001b[0m\u001b[0m\n",
            "\u001b[0;31mNameError\u001b[0m: name 'bond_data' is not defined"
          ]
        }
      ],
      "source": [
        "portfolio_summary = get_portfolio_value_history(port)\n",
        "portfolio_summary[\"value\"] = portfolio_summary[\"qty\"] * portfolio_summary[\"mid\"]\n",
        "portfolio_summary_grouped = portfolio_summary.groupby(\"date\")"
      ],
      "metadata": {
        "ExecuteTime": {
          "start_time": "2023-11-10T21:53:08.866446Z"
        },
        "colab": {
          "base_uri": "https://localhost:8080/",
          "height": 331
        },
        "id": "A6xwHvL1Od9i",
        "outputId": "fb1bbcbc-46af-462c-d8e8-c668babe459d"
      }
    },
    {
      "cell_type": "code",
      "execution_count": null,
      "outputs": [],
      "source": [
        "# benchmark rgbitr\n",
        "rgbitr_slice = bond_data.rgbitr.set_index(\"date\").loc[start_date:end_date]\n",
        "pnl_benchmark = np.cumprod(rgbitr_slice.close.pct_change().fillna(0) + 1)\n",
        "pnl_benchmark.index = pd.DatetimeIndex(pnl_benchmark.index)\n",
        "pnl_benchmark.plot(label=\"rgbitr benchmark\")\n",
        "\n",
        "# portfolio\n",
        "pnl_portfolio = portfolio_summary_grouped.value.sum()\n",
        "pnl_portfolio.index = pd.DatetimeIndex(pnl_portfolio.index)\n",
        "pnl_portfolio.plot(label=\"portfolio\")\n",
        "\n",
        "plt.legend()\n",
        "plt.ylabel(\"PNL\");"
      ],
      "metadata": {
        "ExecuteTime": {
          "start_time": "2023-11-10T21:53:08.867378Z"
        },
        "id": "LmPXrRhQOd9i"
      }
    },
    {
      "cell_type": "markdown",
      "source": [
        "### mean and median return"
      ],
      "metadata": {
        "collapsed": false,
        "id": "c5oIvrPKOd9i"
      }
    },
    {
      "cell_type": "code",
      "execution_count": null,
      "outputs": [],
      "source": [
        "returns = portfolio_summary_grouped.value.sum().pct_change()\n",
        "f\"Mean return = {returns.mean():.3f}, Median return = {returns.median():.3f}\""
      ],
      "metadata": {
        "ExecuteTime": {
          "start_time": "2023-11-10T21:53:08.868167Z"
        },
        "id": "uhNICIrvOd9i"
      }
    },
    {
      "cell_type": "markdown",
      "source": [
        "## Sharpe Ratio"
      ],
      "metadata": {
        "collapsed": false,
        "id": "h3GhKvL5Od9i"
      }
    },
    {
      "cell_type": "code",
      "execution_count": null,
      "outputs": [],
      "source": [
        "rgbitr_slice = bond_data.rgbitr.set_index(\"date\").loc[start_date:end_date]\n",
        "\n",
        "returns_benchmark = rgbitr_slice.close.pct_change().iloc[1:]\n",
        "returns_port = portfolio_summary_grouped.value.sum().pct_change().iloc[1:]"
      ],
      "metadata": {
        "ExecuteTime": {
          "start_time": "2023-11-10T21:53:08.869065Z"
        },
        "id": "5E9Po6HDOd9i"
      }
    },
    {
      "cell_type": "code",
      "execution_count": null,
      "outputs": [],
      "source": [
        "def get_sharp_ratio(returns, returns_market):\n",
        "    \"\"\"\n",
        "    Notes: https://www.investopedia.com/terms/s/sharperatio.asp\n",
        "    \"\"\"\n",
        "    delta = returns.product() - returns_market.product()\n",
        "    return delta / (returns - returns_market).std()\n",
        "\n",
        "\n",
        "get_sharp_ratio(returns=returns_benchmark, returns_market=returns_port)"
      ],
      "metadata": {
        "ExecuteTime": {
          "start_time": "2023-11-10T21:53:08.870178Z"
        },
        "id": "C9YeF82bOd9j"
      }
    },
    {
      "cell_type": "markdown",
      "source": [
        "### Information Ratio"
      ],
      "metadata": {
        "collapsed": false,
        "id": "Rlbg7IY9Od9j"
      }
    },
    {
      "cell_type": "code",
      "execution_count": null,
      "outputs": [],
      "source": [
        "def get_information_ratio(returns, returns_market):\n",
        "    \"\"\"\n",
        "    Notes: https://www.investopedia.com/terms/i/informationratio.asp\n",
        "    \"\"\"\n",
        "    difference_benchmark_portfolio = returns - returns_market\n",
        "    tracking_error = difference_benchmark_portfolio.std()\n",
        "    information_ratio = (returns.mean() - returns_market.mean()) / tracking_error\n",
        "    return information_ratio"
      ],
      "metadata": {
        "ExecuteTime": {
          "start_time": "2023-11-10T21:53:08.871076Z"
        },
        "id": "TZ1PB0_lOd9j"
      }
    },
    {
      "cell_type": "code",
      "execution_count": null,
      "outputs": [],
      "source": [
        "information_ratio = get_information_ratio(\n",
        "    returns=returns_benchmark, returns_market=returns_port\n",
        ")\n",
        "information_ratio"
      ],
      "metadata": {
        "ExecuteTime": {
          "start_time": "2023-11-10T21:53:08.879605Z"
        },
        "id": "go2EC_nROd9j"
      }
    },
    {
      "cell_type": "markdown",
      "source": [
        "## Returns"
      ],
      "metadata": {
        "collapsed": false,
        "id": "LJl1t7bJOd9j"
      }
    },
    {
      "cell_type": "code",
      "execution_count": null,
      "outputs": [],
      "source": [
        "plt.figure()\n",
        "sns.distplot(returns_benchmark, bins=42, label=\"benchmark returns\")\n",
        "sns.distplot(returns_port, bins=42, label=\"portfolio returns\")\n",
        "plt.legend();"
      ],
      "metadata": {
        "ExecuteTime": {
          "start_time": "2023-11-10T21:53:08.879932Z"
        },
        "id": "MP_pcKjVOd9j"
      }
    },
    {
      "cell_type": "markdown",
      "source": [
        "# Returns difference"
      ],
      "metadata": {
        "collapsed": false,
        "id": "N350qrx4Od9j"
      }
    },
    {
      "cell_type": "code",
      "execution_count": null,
      "outputs": [],
      "source": [
        "returns_diff = returns_port - returns_benchmark\n",
        "sns.distplot(returns_diff, bins=42, label=\"portfolio returns\");"
      ],
      "metadata": {
        "id": "2n0z5_xYOd9k"
      }
    },
    {
      "cell_type": "code",
      "execution_count": null,
      "outputs": [],
      "source": [
        "from scipy import stats\n",
        "\n",
        "stats.ttest_1samp(returns_diff, popmean=0)"
      ],
      "metadata": {
        "id": "eFSOyEn5Od9k"
      }
    },
    {
      "cell_type": "markdown",
      "source": [
        "# Benchmark Timing\n",
        "\n",
        "One financially based refinement to the regression model is a benchmark timing component. The expanded model is\n",
        "\n",
        "$$r_{P}(t) = \\alpha_{P}+\\beta_{P} * r_{B}(t) + \\gamma_{P} * max(0, r_{B}(t)) + \\epsilon_{P}(t)$$\n",
        "\n",
        "We include the variable γP to determine whether the manager has any benchmark timing skill. The model includes a \"down-market\" beta, βP, and an \"up-market\" beta, βP + γP. If γP is significantly positive, then we say that there is evidence of timing skill; benchmark exposure is significantly different in up and down cases.\n"
      ],
      "metadata": {
        "collapsed": false,
        "id": "A_ZYHiXoOd9l"
      }
    },
    {
      "cell_type": "code",
      "execution_count": null,
      "outputs": [],
      "source": [
        "import statsmodels.api as sm\n",
        "import numpy as np\n",
        "\n",
        "timing_df = returns_benchmark.to_frame().rename(columns={'close':'beta'})\n",
        "timing_df['gamma'] = timing_df['beta']\n",
        "timing_df.loc[timing_df['beta'] < 0, 'gamma'] = 0\n",
        "\n",
        "X = sm.add_constant(timing_df)\n",
        "benchmark_timing_model = sm.OLS(returns_port,X)\n",
        "results = benchmark_timing_model.fit()\n",
        "results.params"
      ],
      "metadata": {
        "id": "JKJ47uNwOd9l"
      }
    },
    {
      "cell_type": "markdown",
      "source": [
        "## Value at Risk"
      ],
      "metadata": {
        "collapsed": false,
        "id": "f_logStwOd9l"
      }
    },
    {
      "cell_type": "code",
      "execution_count": null,
      "outputs": [],
      "source": [
        "alpha = 0.05\n",
        "returns_benchmark.quantile(alpha)"
      ],
      "metadata": {
        "ExecuteTime": {
          "start_time": "2023-11-10T21:53:08.880230Z"
        },
        "id": "CSpI-qHgOd9l"
      }
    },
    {
      "cell_type": "markdown",
      "source": [
        "## Skewness of Returns"
      ],
      "metadata": {
        "collapsed": false,
        "id": "CBuL1NH3Od9m"
      }
    },
    {
      "cell_type": "code",
      "execution_count": null,
      "outputs": [],
      "source": [
        "alpha = 0.05\n",
        "returns_benchmark.skew()"
      ],
      "metadata": {
        "ExecuteTime": {
          "start_time": "2023-11-10T21:53:08.880415Z"
        },
        "id": "95R_t0UIOd9m"
      }
    }
  ],
  "metadata": {
    "kernelspec": {
      "display_name": "Python 3",
      "language": "python",
      "name": "python3"
    },
    "language_info": {
      "codemirror_mode": {
        "name": "ipython",
        "version": 2
      },
      "file_extension": ".py",
      "mimetype": "text/x-python",
      "name": "python",
      "nbconvert_exporter": "python",
      "pygments_lexer": "ipython2",
      "version": "2.7.6"
    },
    "colab": {
      "provenance": []
    }
  },
  "nbformat": 4,
  "nbformat_minor": 0
}